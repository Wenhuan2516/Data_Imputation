{
 "cells": [
  {
   "cell_type": "code",
   "execution_count": 27,
   "id": "d6259c26-da4e-40da-b259-f8742f723033",
   "metadata": {
    "tags": []
   },
   "outputs": [],
   "source": [
    "import pandas as pd\n",
    "import numpy as np\n",
    "import dask.dataframe as ddf\n",
    "from pandas import Series, DataFrame\n",
    "import matplotlib.pyplot as plt\n",
    "%matplotlib inline\n",
    "import plotly.express as px"
   ]
  },
  {
   "cell_type": "markdown",
   "id": "6420718a-0bc2-439c-a9a2-8eacc0ffa1dc",
   "metadata": {},
   "source": [
    "### This Suicide Mortality dataset is collected from CDC wonder: https://wonder.cdc.gov/controller/datarequest/D76, the ICD-10 code: intentional self-harm(suicide)(U03, X60-X84, Y87). \n",
    "### Suicide data from 2005 to 2015 is provided"
   ]
  },
  {
   "cell_type": "code",
   "execution_count": 28,
   "id": "62f802cc-cc5d-4661-92e4-17eaed024ce5",
   "metadata": {
    "tags": []
   },
   "outputs": [],
   "source": [
    "years = [ str(year) for year in range(2005, 2016) ]"
   ]
  },
  {
   "cell_type": "code",
   "execution_count": 29,
   "id": "767f45f2-21cb-4d1b-a028-c56672370fd9",
   "metadata": {
    "tags": []
   },
   "outputs": [],
   "source": [
    "data = []\n",
    "for year in years:\n",
    "    df = pd.read_csv(r'suicide/Suicide_' + year + '.txt', sep='\\t',dtype={\"County Code\": str})\n",
    "    df = df.drop('Notes', axis = 1)\n",
    "    df = df.dropna(how = 'any')\n",
    "    df['Deaths']=df['Deaths'].astype(int)\n",
    "    df['Population']=df['Population'].astype(int)\n",
    "    df['SuicideMortalityRate'] = (df['Deaths'] / df['Population'])*100000\n",
    "    df['year'] = year\n",
    "    data.append(df)"
   ]
  },
  {
   "cell_type": "code",
   "execution_count": 30,
   "id": "0940f569-634c-47de-ae8f-a6fd001c2a6b",
   "metadata": {
    "tags": []
   },
   "outputs": [
    {
     "data": {
      "text/html": [
       "<div>\n",
       "<style scoped>\n",
       "    .dataframe tbody tr th:only-of-type {\n",
       "        vertical-align: middle;\n",
       "    }\n",
       "\n",
       "    .dataframe tbody tr th {\n",
       "        vertical-align: top;\n",
       "    }\n",
       "\n",
       "    .dataframe thead th {\n",
       "        text-align: right;\n",
       "    }\n",
       "</style>\n",
       "<table border=\"1\" class=\"dataframe\">\n",
       "  <thead>\n",
       "    <tr style=\"text-align: right;\">\n",
       "      <th></th>\n",
       "      <th>County</th>\n",
       "      <th>County Code</th>\n",
       "      <th>Deaths</th>\n",
       "      <th>Population</th>\n",
       "      <th>Crude Rate</th>\n",
       "      <th>SuicideMortalityRate</th>\n",
       "      <th>year</th>\n",
       "    </tr>\n",
       "  </thead>\n",
       "  <tbody>\n",
       "    <tr>\n",
       "      <th>0</th>\n",
       "      <td>Baldwin County, AL</td>\n",
       "      <td>01003</td>\n",
       "      <td>14</td>\n",
       "      <td>162183</td>\n",
       "      <td>Unreliable</td>\n",
       "      <td>8.632224</td>\n",
       "      <td>2005</td>\n",
       "    </tr>\n",
       "    <tr>\n",
       "      <th>1</th>\n",
       "      <td>Calhoun County, AL</td>\n",
       "      <td>01015</td>\n",
       "      <td>14</td>\n",
       "      <td>114477</td>\n",
       "      <td>Unreliable</td>\n",
       "      <td>12.229531</td>\n",
       "      <td>2005</td>\n",
       "    </tr>\n",
       "    <tr>\n",
       "      <th>2</th>\n",
       "      <td>Cullman County, AL</td>\n",
       "      <td>01043</td>\n",
       "      <td>15</td>\n",
       "      <td>78692</td>\n",
       "      <td>Unreliable</td>\n",
       "      <td>19.061658</td>\n",
       "      <td>2005</td>\n",
       "    </tr>\n",
       "    <tr>\n",
       "      <th>3</th>\n",
       "      <td>Etowah County, AL</td>\n",
       "      <td>01055</td>\n",
       "      <td>16</td>\n",
       "      <td>103174</td>\n",
       "      <td>Unreliable</td>\n",
       "      <td>15.507783</td>\n",
       "      <td>2005</td>\n",
       "    </tr>\n",
       "    <tr>\n",
       "      <th>4</th>\n",
       "      <td>Houston County, AL</td>\n",
       "      <td>01069</td>\n",
       "      <td>15</td>\n",
       "      <td>93903</td>\n",
       "      <td>Unreliable</td>\n",
       "      <td>15.973931</td>\n",
       "      <td>2005</td>\n",
       "    </tr>\n",
       "    <tr>\n",
       "      <th>...</th>\n",
       "      <td>...</td>\n",
       "      <td>...</td>\n",
       "      <td>...</td>\n",
       "      <td>...</td>\n",
       "      <td>...</td>\n",
       "      <td>...</td>\n",
       "      <td>...</td>\n",
       "    </tr>\n",
       "    <tr>\n",
       "      <th>949</th>\n",
       "      <td>Laramie County, WY</td>\n",
       "      <td>56021</td>\n",
       "      <td>27</td>\n",
       "      <td>97121</td>\n",
       "      <td>27.8</td>\n",
       "      <td>27.800373</td>\n",
       "      <td>2015</td>\n",
       "    </tr>\n",
       "    <tr>\n",
       "      <th>950</th>\n",
       "      <td>Natrona County, WY</td>\n",
       "      <td>56025</td>\n",
       "      <td>28</td>\n",
       "      <td>82178</td>\n",
       "      <td>34.1</td>\n",
       "      <td>34.072379</td>\n",
       "      <td>2015</td>\n",
       "    </tr>\n",
       "    <tr>\n",
       "      <th>951</th>\n",
       "      <td>Park County, WY</td>\n",
       "      <td>56029</td>\n",
       "      <td>10</td>\n",
       "      <td>29228</td>\n",
       "      <td>Unreliable</td>\n",
       "      <td>34.213768</td>\n",
       "      <td>2015</td>\n",
       "    </tr>\n",
       "    <tr>\n",
       "      <th>952</th>\n",
       "      <td>Sheridan County, WY</td>\n",
       "      <td>56033</td>\n",
       "      <td>12</td>\n",
       "      <td>30009</td>\n",
       "      <td>Unreliable</td>\n",
       "      <td>39.988004</td>\n",
       "      <td>2015</td>\n",
       "    </tr>\n",
       "    <tr>\n",
       "      <th>953</th>\n",
       "      <td>Sweetwater County, WY</td>\n",
       "      <td>56037</td>\n",
       "      <td>11</td>\n",
       "      <td>44626</td>\n",
       "      <td>Unreliable</td>\n",
       "      <td>24.649308</td>\n",
       "      <td>2015</td>\n",
       "    </tr>\n",
       "  </tbody>\n",
       "</table>\n",
       "<p>9222 rows × 7 columns</p>\n",
       "</div>"
      ],
      "text/plain": [
       "                    County County Code  Deaths  Population  Crude Rate   \n",
       "0       Baldwin County, AL       01003      14      162183  Unreliable  \\\n",
       "1       Calhoun County, AL       01015      14      114477  Unreliable   \n",
       "2       Cullman County, AL       01043      15       78692  Unreliable   \n",
       "3        Etowah County, AL       01055      16      103174  Unreliable   \n",
       "4       Houston County, AL       01069      15       93903  Unreliable   \n",
       "..                     ...         ...     ...         ...         ...   \n",
       "949     Laramie County, WY       56021      27       97121        27.8   \n",
       "950     Natrona County, WY       56025      28       82178        34.1   \n",
       "951        Park County, WY       56029      10       29228  Unreliable   \n",
       "952    Sheridan County, WY       56033      12       30009  Unreliable   \n",
       "953  Sweetwater County, WY       56037      11       44626  Unreliable   \n",
       "\n",
       "     SuicideMortalityRate  year  \n",
       "0                8.632224  2005  \n",
       "1               12.229531  2005  \n",
       "2               19.061658  2005  \n",
       "3               15.507783  2005  \n",
       "4               15.973931  2005  \n",
       "..                    ...   ...  \n",
       "949             27.800373  2015  \n",
       "950             34.072379  2015  \n",
       "951             34.213768  2015  \n",
       "952             39.988004  2015  \n",
       "953             24.649308  2015  \n",
       "\n",
       "[9222 rows x 7 columns]"
      ]
     },
     "execution_count": 30,
     "metadata": {},
     "output_type": "execute_result"
    }
   ],
   "source": [
    "suicide = pd.concat(data)\n",
    "suicide"
   ]
  },
  {
   "cell_type": "code",
   "execution_count": 31,
   "id": "a10c68b9-7efd-4732-a891-077cba9b0633",
   "metadata": {
    "tags": []
   },
   "outputs": [
    {
     "data": {
      "text/html": [
       "<div>\n",
       "<style scoped>\n",
       "    .dataframe tbody tr th:only-of-type {\n",
       "        vertical-align: middle;\n",
       "    }\n",
       "\n",
       "    .dataframe tbody tr th {\n",
       "        vertical-align: top;\n",
       "    }\n",
       "\n",
       "    .dataframe thead th {\n",
       "        text-align: right;\n",
       "    }\n",
       "</style>\n",
       "<table border=\"1\" class=\"dataframe\">\n",
       "  <thead>\n",
       "    <tr style=\"text-align: right;\">\n",
       "      <th></th>\n",
       "      <th>county</th>\n",
       "      <th>fips</th>\n",
       "      <th>Deaths</th>\n",
       "      <th>Population</th>\n",
       "      <th>Crude Rate</th>\n",
       "      <th>SuicideMortalityRate</th>\n",
       "      <th>year</th>\n",
       "    </tr>\n",
       "  </thead>\n",
       "  <tbody>\n",
       "    <tr>\n",
       "      <th>0</th>\n",
       "      <td>Baldwin County, AL</td>\n",
       "      <td>01003</td>\n",
       "      <td>14</td>\n",
       "      <td>162183</td>\n",
       "      <td>Unreliable</td>\n",
       "      <td>8.632224</td>\n",
       "      <td>2005</td>\n",
       "    </tr>\n",
       "    <tr>\n",
       "      <th>1</th>\n",
       "      <td>Calhoun County, AL</td>\n",
       "      <td>01015</td>\n",
       "      <td>14</td>\n",
       "      <td>114477</td>\n",
       "      <td>Unreliable</td>\n",
       "      <td>12.229531</td>\n",
       "      <td>2005</td>\n",
       "    </tr>\n",
       "    <tr>\n",
       "      <th>2</th>\n",
       "      <td>Cullman County, AL</td>\n",
       "      <td>01043</td>\n",
       "      <td>15</td>\n",
       "      <td>78692</td>\n",
       "      <td>Unreliable</td>\n",
       "      <td>19.061658</td>\n",
       "      <td>2005</td>\n",
       "    </tr>\n",
       "    <tr>\n",
       "      <th>3</th>\n",
       "      <td>Etowah County, AL</td>\n",
       "      <td>01055</td>\n",
       "      <td>16</td>\n",
       "      <td>103174</td>\n",
       "      <td>Unreliable</td>\n",
       "      <td>15.507783</td>\n",
       "      <td>2005</td>\n",
       "    </tr>\n",
       "    <tr>\n",
       "      <th>4</th>\n",
       "      <td>Houston County, AL</td>\n",
       "      <td>01069</td>\n",
       "      <td>15</td>\n",
       "      <td>93903</td>\n",
       "      <td>Unreliable</td>\n",
       "      <td>15.973931</td>\n",
       "      <td>2005</td>\n",
       "    </tr>\n",
       "    <tr>\n",
       "      <th>...</th>\n",
       "      <td>...</td>\n",
       "      <td>...</td>\n",
       "      <td>...</td>\n",
       "      <td>...</td>\n",
       "      <td>...</td>\n",
       "      <td>...</td>\n",
       "      <td>...</td>\n",
       "    </tr>\n",
       "    <tr>\n",
       "      <th>949</th>\n",
       "      <td>Laramie County, WY</td>\n",
       "      <td>56021</td>\n",
       "      <td>27</td>\n",
       "      <td>97121</td>\n",
       "      <td>27.8</td>\n",
       "      <td>27.800373</td>\n",
       "      <td>2015</td>\n",
       "    </tr>\n",
       "    <tr>\n",
       "      <th>950</th>\n",
       "      <td>Natrona County, WY</td>\n",
       "      <td>56025</td>\n",
       "      <td>28</td>\n",
       "      <td>82178</td>\n",
       "      <td>34.1</td>\n",
       "      <td>34.072379</td>\n",
       "      <td>2015</td>\n",
       "    </tr>\n",
       "    <tr>\n",
       "      <th>951</th>\n",
       "      <td>Park County, WY</td>\n",
       "      <td>56029</td>\n",
       "      <td>10</td>\n",
       "      <td>29228</td>\n",
       "      <td>Unreliable</td>\n",
       "      <td>34.213768</td>\n",
       "      <td>2015</td>\n",
       "    </tr>\n",
       "    <tr>\n",
       "      <th>952</th>\n",
       "      <td>Sheridan County, WY</td>\n",
       "      <td>56033</td>\n",
       "      <td>12</td>\n",
       "      <td>30009</td>\n",
       "      <td>Unreliable</td>\n",
       "      <td>39.988004</td>\n",
       "      <td>2015</td>\n",
       "    </tr>\n",
       "    <tr>\n",
       "      <th>953</th>\n",
       "      <td>Sweetwater County, WY</td>\n",
       "      <td>56037</td>\n",
       "      <td>11</td>\n",
       "      <td>44626</td>\n",
       "      <td>Unreliable</td>\n",
       "      <td>24.649308</td>\n",
       "      <td>2015</td>\n",
       "    </tr>\n",
       "  </tbody>\n",
       "</table>\n",
       "<p>9222 rows × 7 columns</p>\n",
       "</div>"
      ],
      "text/plain": [
       "                    county   fips  Deaths  Population  Crude Rate   \n",
       "0       Baldwin County, AL  01003      14      162183  Unreliable  \\\n",
       "1       Calhoun County, AL  01015      14      114477  Unreliable   \n",
       "2       Cullman County, AL  01043      15       78692  Unreliable   \n",
       "3        Etowah County, AL  01055      16      103174  Unreliable   \n",
       "4       Houston County, AL  01069      15       93903  Unreliable   \n",
       "..                     ...    ...     ...         ...         ...   \n",
       "949     Laramie County, WY  56021      27       97121        27.8   \n",
       "950     Natrona County, WY  56025      28       82178        34.1   \n",
       "951        Park County, WY  56029      10       29228  Unreliable   \n",
       "952    Sheridan County, WY  56033      12       30009  Unreliable   \n",
       "953  Sweetwater County, WY  56037      11       44626  Unreliable   \n",
       "\n",
       "     SuicideMortalityRate  year  \n",
       "0                8.632224  2005  \n",
       "1               12.229531  2005  \n",
       "2               19.061658  2005  \n",
       "3               15.507783  2005  \n",
       "4               15.973931  2005  \n",
       "..                    ...   ...  \n",
       "949             27.800373  2015  \n",
       "950             34.072379  2015  \n",
       "951             34.213768  2015  \n",
       "952             39.988004  2015  \n",
       "953             24.649308  2015  \n",
       "\n",
       "[9222 rows x 7 columns]"
      ]
     },
     "execution_count": 31,
     "metadata": {},
     "output_type": "execute_result"
    }
   ],
   "source": [
    "suicide = suicide.rename(columns = {'County': 'county', 'County Code': 'fips'})\n",
    "suicide"
   ]
  },
  {
   "cell_type": "code",
   "execution_count": 32,
   "id": "bbf946c9-9413-4a81-ab31-dbe838f05689",
   "metadata": {
    "tags": []
   },
   "outputs": [],
   "source": [
    "amount_list = []\n",
    "for year in years:\n",
    "    amount_dict = {}\n",
    "    suicide_year = suicide[suicide['year'] == year]\n",
    "    county_amount = len(suicide_year['fips'].unique())\n",
    "    amount_dict[year] = county_amount \n",
    "    amount_list.append(amount_dict)"
   ]
  },
  {
   "cell_type": "code",
   "execution_count": 33,
   "id": "8420e7ed-c72c-46c4-a6d6-270aa3eded17",
   "metadata": {
    "tags": []
   },
   "outputs": [
    {
     "data": {
      "text/plain": [
       "[{'2005': 735},\n",
       " {'2006': 764},\n",
       " {'2007': 779},\n",
       " {'2008': 798},\n",
       " {'2009': 791},\n",
       " {'2010': 851},\n",
       " {'2011': 882},\n",
       " {'2012': 878},\n",
       " {'2013': 888},\n",
       " {'2014': 902},\n",
       " {'2015': 954}]"
      ]
     },
     "execution_count": 33,
     "metadata": {},
     "output_type": "execute_result"
    }
   ],
   "source": [
    "amount_list"
   ]
  },
  {
   "cell_type": "code",
   "execution_count": 34,
   "id": "d4de6a2d-ffaf-46c1-b5d4-00b488e0ee8c",
   "metadata": {
    "tags": []
   },
   "outputs": [],
   "source": [
    "def defineRange(r):\n",
    "    if r <= 10:\n",
    "        return '<=10'\n",
    "    elif r >= 10.1 and r <=12:\n",
    "        return '10.1-12'\n",
    "    elif r >= 12.1 and r <=14:\n",
    "        return '12.1-14'\n",
    "    elif r >= 14.1 and r <=16:\n",
    "        return '14.1-16'\n",
    "    elif r >= 16.1 and r <=18:\n",
    "        return '16.1-18'\n",
    "    elif r >= 18.1 and r <=20:\n",
    "        return '18.1-20'\n",
    "    elif r >= 20.1 and r <=22:\n",
    "        return '20.1-22'\n",
    "    elif r >= 22.1 and r <=24:\n",
    "        return '22.1-24'\n",
    "    elif r >= 24.1 and r <=28:\n",
    "        return '24.1-28'\n",
    "    elif r >= 28.1 and r <=36:\n",
    "        return '28.1-36'\n",
    "    else:\n",
    "        return '>36'"
   ]
  },
  {
   "cell_type": "code",
   "execution_count": 35,
   "id": "8e10782d-4248-45df-aefc-b11b96d6b980",
   "metadata": {
    "tags": []
   },
   "outputs": [
    {
     "data": {
      "text/html": [
       "<div>\n",
       "<style scoped>\n",
       "    .dataframe tbody tr th:only-of-type {\n",
       "        vertical-align: middle;\n",
       "    }\n",
       "\n",
       "    .dataframe tbody tr th {\n",
       "        vertical-align: top;\n",
       "    }\n",
       "\n",
       "    .dataframe thead th {\n",
       "        text-align: right;\n",
       "    }\n",
       "</style>\n",
       "<table border=\"1\" class=\"dataframe\">\n",
       "  <thead>\n",
       "    <tr style=\"text-align: right;\">\n",
       "      <th></th>\n",
       "      <th>county</th>\n",
       "      <th>fips</th>\n",
       "      <th>Deaths</th>\n",
       "      <th>Population</th>\n",
       "      <th>Crude Rate</th>\n",
       "      <th>SuicideMortalityRate</th>\n",
       "      <th>year</th>\n",
       "      <th>RateRange</th>\n",
       "    </tr>\n",
       "  </thead>\n",
       "  <tbody>\n",
       "    <tr>\n",
       "      <th>0</th>\n",
       "      <td>Baldwin County, AL</td>\n",
       "      <td>01003</td>\n",
       "      <td>14</td>\n",
       "      <td>162183</td>\n",
       "      <td>Unreliable</td>\n",
       "      <td>8.632224</td>\n",
       "      <td>2005</td>\n",
       "      <td>&lt;=10</td>\n",
       "    </tr>\n",
       "    <tr>\n",
       "      <th>1</th>\n",
       "      <td>Calhoun County, AL</td>\n",
       "      <td>01015</td>\n",
       "      <td>14</td>\n",
       "      <td>114477</td>\n",
       "      <td>Unreliable</td>\n",
       "      <td>12.229531</td>\n",
       "      <td>2005</td>\n",
       "      <td>12.1-14</td>\n",
       "    </tr>\n",
       "    <tr>\n",
       "      <th>2</th>\n",
       "      <td>Cullman County, AL</td>\n",
       "      <td>01043</td>\n",
       "      <td>15</td>\n",
       "      <td>78692</td>\n",
       "      <td>Unreliable</td>\n",
       "      <td>19.061658</td>\n",
       "      <td>2005</td>\n",
       "      <td>18.1-20</td>\n",
       "    </tr>\n",
       "    <tr>\n",
       "      <th>3</th>\n",
       "      <td>Etowah County, AL</td>\n",
       "      <td>01055</td>\n",
       "      <td>16</td>\n",
       "      <td>103174</td>\n",
       "      <td>Unreliable</td>\n",
       "      <td>15.507783</td>\n",
       "      <td>2005</td>\n",
       "      <td>14.1-16</td>\n",
       "    </tr>\n",
       "    <tr>\n",
       "      <th>4</th>\n",
       "      <td>Houston County, AL</td>\n",
       "      <td>01069</td>\n",
       "      <td>15</td>\n",
       "      <td>93903</td>\n",
       "      <td>Unreliable</td>\n",
       "      <td>15.973931</td>\n",
       "      <td>2005</td>\n",
       "      <td>14.1-16</td>\n",
       "    </tr>\n",
       "    <tr>\n",
       "      <th>...</th>\n",
       "      <td>...</td>\n",
       "      <td>...</td>\n",
       "      <td>...</td>\n",
       "      <td>...</td>\n",
       "      <td>...</td>\n",
       "      <td>...</td>\n",
       "      <td>...</td>\n",
       "      <td>...</td>\n",
       "    </tr>\n",
       "    <tr>\n",
       "      <th>949</th>\n",
       "      <td>Laramie County, WY</td>\n",
       "      <td>56021</td>\n",
       "      <td>27</td>\n",
       "      <td>97121</td>\n",
       "      <td>27.8</td>\n",
       "      <td>27.800373</td>\n",
       "      <td>2015</td>\n",
       "      <td>24.1-28</td>\n",
       "    </tr>\n",
       "    <tr>\n",
       "      <th>950</th>\n",
       "      <td>Natrona County, WY</td>\n",
       "      <td>56025</td>\n",
       "      <td>28</td>\n",
       "      <td>82178</td>\n",
       "      <td>34.1</td>\n",
       "      <td>34.072379</td>\n",
       "      <td>2015</td>\n",
       "      <td>28.1-36</td>\n",
       "    </tr>\n",
       "    <tr>\n",
       "      <th>951</th>\n",
       "      <td>Park County, WY</td>\n",
       "      <td>56029</td>\n",
       "      <td>10</td>\n",
       "      <td>29228</td>\n",
       "      <td>Unreliable</td>\n",
       "      <td>34.213768</td>\n",
       "      <td>2015</td>\n",
       "      <td>28.1-36</td>\n",
       "    </tr>\n",
       "    <tr>\n",
       "      <th>952</th>\n",
       "      <td>Sheridan County, WY</td>\n",
       "      <td>56033</td>\n",
       "      <td>12</td>\n",
       "      <td>30009</td>\n",
       "      <td>Unreliable</td>\n",
       "      <td>39.988004</td>\n",
       "      <td>2015</td>\n",
       "      <td>&gt;36</td>\n",
       "    </tr>\n",
       "    <tr>\n",
       "      <th>953</th>\n",
       "      <td>Sweetwater County, WY</td>\n",
       "      <td>56037</td>\n",
       "      <td>11</td>\n",
       "      <td>44626</td>\n",
       "      <td>Unreliable</td>\n",
       "      <td>24.649308</td>\n",
       "      <td>2015</td>\n",
       "      <td>24.1-28</td>\n",
       "    </tr>\n",
       "  </tbody>\n",
       "</table>\n",
       "<p>9222 rows × 8 columns</p>\n",
       "</div>"
      ],
      "text/plain": [
       "                    county   fips  Deaths  Population  Crude Rate   \n",
       "0       Baldwin County, AL  01003      14      162183  Unreliable  \\\n",
       "1       Calhoun County, AL  01015      14      114477  Unreliable   \n",
       "2       Cullman County, AL  01043      15       78692  Unreliable   \n",
       "3        Etowah County, AL  01055      16      103174  Unreliable   \n",
       "4       Houston County, AL  01069      15       93903  Unreliable   \n",
       "..                     ...    ...     ...         ...         ...   \n",
       "949     Laramie County, WY  56021      27       97121        27.8   \n",
       "950     Natrona County, WY  56025      28       82178        34.1   \n",
       "951        Park County, WY  56029      10       29228  Unreliable   \n",
       "952    Sheridan County, WY  56033      12       30009  Unreliable   \n",
       "953  Sweetwater County, WY  56037      11       44626  Unreliable   \n",
       "\n",
       "     SuicideMortalityRate  year RateRange  \n",
       "0                8.632224  2005      <=10  \n",
       "1               12.229531  2005   12.1-14  \n",
       "2               19.061658  2005   18.1-20  \n",
       "3               15.507783  2005   14.1-16  \n",
       "4               15.973931  2005   14.1-16  \n",
       "..                    ...   ...       ...  \n",
       "949             27.800373  2015   24.1-28  \n",
       "950             34.072379  2015   28.1-36  \n",
       "951             34.213768  2015   28.1-36  \n",
       "952             39.988004  2015       >36  \n",
       "953             24.649308  2015   24.1-28  \n",
       "\n",
       "[9222 rows x 8 columns]"
      ]
     },
     "execution_count": 35,
     "metadata": {},
     "output_type": "execute_result"
    }
   ],
   "source": [
    "suicide['RateRange'] = suicide['SuicideMortalityRate'].apply(defineRange)\n",
    "suicide"
   ]
  },
  {
   "cell_type": "code",
   "execution_count": 36,
   "id": "f5d746e9-251d-44c3-a785-91a05f3478b1",
   "metadata": {
    "tags": []
   },
   "outputs": [],
   "source": [
    "color_map = {'<=10': '#5f50a2', '10.1-12': '#3388bd', '12.1-14': '#66c2a6', '14.1-16': '#abdda4', '16.1-18': '#e6f598', '18.1-20': '#ffffbf',\n",
    "            '20.1-22': '#fde08b', '22.1-24': '#fcad61', '24.1-28': '#f36d44', '28.1-36': '#b63e4f', '>36': '#9e0143'}"
   ]
  },
  {
   "cell_type": "code",
   "execution_count": 37,
   "id": "8748d2b3-9a52-4a1b-bb2a-c97af6ff9b48",
   "metadata": {
    "tags": []
   },
   "outputs": [],
   "source": [
    "# you can change the year value to show suicide rate in any other years between 2005 to 2015 on the map\n",
    "year = '2014'"
   ]
  },
  {
   "cell_type": "code",
   "execution_count": null,
   "id": "14d7d4de-cedd-431c-905c-ed95e485454a",
   "metadata": {
    "tags": []
   },
   "outputs": [
    {
     "name": "stdout",
     "output_type": "stream",
     "text": [
      "Suicide Rate Before Imputation in 2014\n"
     ]
    }
   ],
   "source": [
    "from urllib.request import urlopen\n",
    "import json\n",
    "with urlopen('https://raw.githubusercontent.com/plotly/datasets/master/geojson-counties-fips.json') as response:\n",
    "    counties = json.load(response)\n",
    "import pandas as pd\n",
    "import plotly.express as px\n",
    "\n",
    "print('Suicide Rate Before Imputation in ' + str(year))\n",
    "suicide_year = suicide[suicide['year'] == year]\n",
    "suicide_year = suicide_year.sort_values(\"SuicideMortalityRate\", axis = 0, ascending = False)\n",
    "fig = px.choropleth_mapbox(suicide_year, geojson=counties, locations='fips', color='RateRange',\n",
    "                            color_discrete_map = color_map,\n",
    "                            mapbox_style = 'carto-positron',\n",
    "                            zoom = 3, center = {\"lat\": 37.0902, \"lon\": -95.7129}\n",
    "                            )\n",
    "fig.update_layout(margin={\"r\":0,\"t\":0,\"l\":0,\"b\":0})\n",
    "fig.show()"
   ]
  },
  {
   "cell_type": "code",
   "execution_count": null,
   "id": "c5625c73-7444-4013-b705-bb4657a7f8c9",
   "metadata": {
    "tags": []
   },
   "outputs": [],
   "source": [
    "county = pd.read_csv('county_adjacency.csv', dtype = {'fips': str}).drop(columns={'Unnamed: 0'})\n",
    "county"
   ]
  },
  {
   "cell_type": "code",
   "execution_count": null,
   "id": "8b5abdde-3350-4442-a1e0-aae336718543",
   "metadata": {
    "tags": []
   },
   "outputs": [],
   "source": [
    "suicide"
   ]
  },
  {
   "cell_type": "markdown",
   "id": "39d325f2-58c5-465a-a3c3-21723806cc72",
   "metadata": {},
   "source": [
    "### Merge each yearly suicide data with county dataframe"
   ]
  },
  {
   "cell_type": "code",
   "execution_count": null,
   "id": "ed59b1a0-dd93-45d4-80de-32da458b6cd8",
   "metadata": {
    "tags": []
   },
   "outputs": [],
   "source": [
    "data = []\n",
    "for year in years:\n",
    "    suicide_year = suicide[suicide['year'] == year]\n",
    "    suicide_county = county.merge(suicide_year, on = ['county', 'fips'], how = 'left')\n",
    "    suicide_county['year'] = year\n",
    "    data.append(suicide_county)"
   ]
  },
  {
   "cell_type": "code",
   "execution_count": null,
   "id": "69791c71-63a4-4271-9909-b1096e5d5fff",
   "metadata": {
    "tags": []
   },
   "outputs": [],
   "source": [
    "df_suicide = pd.concat(data)\n",
    "df_suicide"
   ]
  },
  {
   "cell_type": "markdown",
   "id": "a4f93bce-0ca9-4ace-bdec-db664f163a82",
   "metadata": {},
   "source": [
    "####  the suicide data used into INLA model should be sorted by fips and year first to make the model recognize the spatial and temporal effects"
   ]
  },
  {
   "cell_type": "code",
   "execution_count": null,
   "id": "6a8f41da-a781-43cc-8fec-0f765d21a1db",
   "metadata": {
    "tags": []
   },
   "outputs": [],
   "source": [
    "df_suicide = df_suicide.sort_values(['fips', 'year'])\n",
    "df_suicide.head(50)"
   ]
  },
  {
   "cell_type": "code",
   "execution_count": null,
   "id": "a7a20e2e-fa58-47ee-95b5-178594d76853",
   "metadata": {
    "tags": []
   },
   "outputs": [],
   "source": [
    "df_final = df_suicide[['county', 'fips', 'year', 'Deaths', 'Population', 'SuicideMortalityRate']]\n",
    "df_final"
   ]
  },
  {
   "cell_type": "code",
   "execution_count": null,
   "id": "4a2e29c5-acda-47a3-add5-c61f07af81a7",
   "metadata": {
    "tags": []
   },
   "outputs": [],
   "source": [
    "df_final.to_csv('suicide_0515.csv')"
   ]
  },
  {
   "cell_type": "markdown",
   "id": "0764e165-bdc6-4186-aac1-66f09e9df892",
   "metadata": {},
   "source": [
    "### Read the suicide data after imputed"
   ]
  },
  {
   "cell_type": "code",
   "execution_count": null,
   "id": "a6290d83-4071-4288-988a-d9c35093a824",
   "metadata": {
    "tags": []
   },
   "outputs": [],
   "source": [
    "suicide_imputed = pd.read_csv('suicide_0515_imputed.csv', dtype = {'fips': str})\n",
    "suicide_imputed"
   ]
  },
  {
   "cell_type": "code",
   "execution_count": null,
   "id": "232d4e65-6202-4670-8ac2-6ea3381c5b53",
   "metadata": {
    "tags": []
   },
   "outputs": [],
   "source": [
    "def convertFips(code):\n",
    "    return str(code).rjust(5, '0')"
   ]
  },
  {
   "cell_type": "code",
   "execution_count": null,
   "id": "fad441f2-2657-4c07-b4cb-dc1df03a9102",
   "metadata": {
    "tags": []
   },
   "outputs": [],
   "source": [
    "suicide_imputed['fips'] = suicide_imputed['fips'].apply(convertFips)"
   ]
  },
  {
   "cell_type": "code",
   "execution_count": null,
   "id": "29df56c8-6395-4f07-9507-7e3bb8c0d4d2",
   "metadata": {
    "tags": []
   },
   "outputs": [],
   "source": [
    "suicide_imputed['RateRange'] = suicide_imputed['SuicideEstimates'].apply(defineRange)\n",
    "suicide_imputed.head()"
   ]
  },
  {
   "cell_type": "code",
   "execution_count": null,
   "id": "3a59bbe3-e166-4b3a-aa49-170c48fe2b3e",
   "metadata": {
    "tags": []
   },
   "outputs": [],
   "source": [
    "year = 2014"
   ]
  },
  {
   "cell_type": "code",
   "execution_count": null,
   "id": "610d1a09-7cf8-4a68-9cfb-c3fddaf97e80",
   "metadata": {
    "tags": []
   },
   "outputs": [],
   "source": [
    "from urllib.request import urlopen\n",
    "import json\n",
    "with urlopen('https://raw.githubusercontent.com/plotly/datasets/master/geojson-counties-fips.json') as response:\n",
    "    counties = json.load(response)\n",
    "import pandas as pd\n",
    "import plotly.express as px\n",
    "\n",
    "print('Suicide Rate After Imputation in ' + str(year))\n",
    "suicide_year = suicide_imputed[suicide_imputed['year'] == year]\n",
    "suicide_year = suicide_year.sort_values(\"SuicideEstimates\", axis = 0, ascending = False)\n",
    "fig = px.choropleth_mapbox(suicide_year, geojson=counties, locations='fips', color='RateRange',\n",
    "                            color_discrete_map = color_map,\n",
    "                            mapbox_style = 'carto-positron',\n",
    "                            zoom = 3, center = {\"lat\": 37.0902, \"lon\": -95.7129}\n",
    "                            )\n",
    "fig.update_layout(margin={\"r\":0,\"t\":0,\"l\":0,\"b\":0})\n",
    "fig.show()"
   ]
  },
  {
   "cell_type": "code",
   "execution_count": null,
   "id": "01d4a501-99e9-40ba-af1b-3e1cce24009c",
   "metadata": {},
   "outputs": [],
   "source": []
  },
  {
   "cell_type": "code",
   "execution_count": null,
   "id": "1de34ce3-30cb-4eeb-a41c-0810acd1b3ca",
   "metadata": {},
   "outputs": [],
   "source": []
  },
  {
   "cell_type": "code",
   "execution_count": null,
   "id": "79aaf3d4-77c0-4674-8314-538169ff547e",
   "metadata": {},
   "outputs": [],
   "source": []
  },
  {
   "cell_type": "code",
   "execution_count": null,
   "id": "35de8ff9-7a85-43d2-929a-473dfb7d505d",
   "metadata": {},
   "outputs": [],
   "source": []
  },
  {
   "cell_type": "code",
   "execution_count": null,
   "id": "5673f635-ce5b-4738-92fb-a20216a239fd",
   "metadata": {},
   "outputs": [],
   "source": []
  },
  {
   "cell_type": "code",
   "execution_count": null,
   "id": "2964c7cd-c494-49c6-8407-fbb5b07a9bb6",
   "metadata": {},
   "outputs": [],
   "source": []
  }
 ],
 "metadata": {
  "kernelspec": {
   "display_name": "MyEnv3",
   "language": "python",
   "name": "myenv3"
  },
  "language_info": {
   "codemirror_mode": {
    "name": "ipython",
    "version": 3
   },
   "file_extension": ".py",
   "mimetype": "text/x-python",
   "name": "python",
   "nbconvert_exporter": "python",
   "pygments_lexer": "ipython3",
   "version": "3.9.16"
  }
 },
 "nbformat": 4,
 "nbformat_minor": 5
}
