{
 "cells": [
  {
   "cell_type": "code",
   "execution_count": 1,
   "id": "631ad872-d98c-4b71-b675-81f2f0b6445f",
   "metadata": {
    "tags": []
   },
   "outputs": [],
   "source": [
    "import pandas as pd\n",
    "import numpy as np\n",
    "import dask.dataframe as ddf\n",
    "from pandas import Series, DataFrame\n",
    "import requests\n",
    "from bs4 import BeautifulSoup\n",
    "from bs4 import Tag\n",
    "import re\n",
    "import csv\n",
    "import json\n",
    "import datetime"
   ]
  },
  {
   "cell_type": "markdown",
   "id": "81b8338a-81db-45ea-8bda-80fa45db987c",
   "metadata": {},
   "source": [
    "## Step 1: Request climate data from NOAA (National Oceanic and Atmospheric Administration) directly"
   ]
  },
  {
   "cell_type": "markdown",
   "id": "a32c6548-6fd9-43b7-9fb5-a861453435af",
   "metadata": {},
   "source": [
    "### Data Source:"
   ]
  },
  {
   "cell_type": "markdown",
   "id": "0c8b9b8f-c113-4261-9cc8-bf4847c7a374",
   "metadata": {},
   "source": [
    "The climate data can be requested from https://www.ncei.noaa.gov/data/global-summary-of-the-day/access/ "
   ]
  },
  {
   "cell_type": "markdown",
   "id": "67671b0c-8d46-406e-b971-49aaba92a720",
   "metadata": {
    "slideshow": {
     "slide_type": "slide"
    },
    "tags": []
   },
   "source": [
    "Python Package needed: request and BeautifulSoup"
   ]
  },
  {
   "cell_type": "markdown",
   "id": "1462eba6-76e4-465a-b277-b83efa999f3f",
   "metadata": {
    "tags": []
   },
   "source": [
    "#### Function 1: Parse url to BeautifulSoup Object"
   ]
  },
  {
   "cell_type": "code",
   "execution_count": 2,
   "id": "ae2f2ee2-1cd5-48a1-8bcd-052a88fa0a3f",
   "metadata": {
    "tags": []
   },
   "outputs": [],
   "source": [
    "def generate_soup(url):\n",
    "    response = requests.get(url)\n",
    "    html = response.text\n",
    "    return BeautifulSoup(html, \"html.parser\")"
   ]
  },
  {
   "cell_type": "code",
   "execution_count": 3,
   "id": "8d7fb3be-2a39-451e-a14b-3d96b4d3dc8a",
   "metadata": {
    "tags": []
   },
   "outputs": [],
   "source": [
    "basicUrl = 'https://www.ncei.noaa.gov/data/global-summary-of-the-day/access/'"
   ]
  },
  {
   "cell_type": "code",
   "execution_count": 5,
   "id": "9a088563-75db-4263-ae5e-3aa09a004f34",
   "metadata": {
    "tags": []
   },
   "outputs": [],
   "source": [
    "year = '1929'"
   ]
  },
  {
   "cell_type": "code",
   "execution_count": 10,
   "id": "6b1318a7-bf45-47f0-93f9-5ac12aea9cf3",
   "metadata": {
    "tags": []
   },
   "outputs": [],
   "source": [
    "# Example : 'https://www.ncei.noaa.gov/data/global-summary-of-the-day/access/1929/'\n",
    "year_url = basicUrl + year + '/'"
   ]
  },
  {
   "cell_type": "markdown",
   "id": "2c5a9a77-729f-4426-bc43-5a5a4a33c406",
   "metadata": {},
   "source": [
    "#### Function 2: Create a loop to find all the urls in each file downloading page and create a list of file names for each year"
   ]
  },
  {
   "cell_type": "code",
   "execution_count": 11,
   "id": "02683874-5a25-401c-a992-05aaac4e1da1",
   "metadata": {
    "tags": []
   },
   "outputs": [],
   "source": [
    "def findFileNames(basicUrl, year):\n",
    "    url_year = basicUrl + year + '/'\n",
    "    soup = generate_soup(url_year)\n",
    "    files = soup.findAll('td')\n",
    "    fileNames = []\n",
    "    for file in files[1:]:\n",
    "        if file.find('a') != None:\n",
    "            fileName = file.find('a').text\n",
    "            fileNames.append(fileName)\n",
    "    return fileNames"
   ]
  },
  {
   "cell_type": "code",
   "execution_count": 12,
   "id": "5cf28bae-b497-4c22-bb4f-d5b9509f0dc6",
   "metadata": {
    "tags": []
   },
   "outputs": [
    {
     "data": {
      "text/plain": [
       "['03005099999.csv',\n",
       " '03075099999.csv',\n",
       " '03091099999.csv',\n",
       " '03159099999.csv',\n",
       " '03262099999.csv',\n",
       " '03311099999.csv',\n",
       " '03379099999.csv',\n",
       " '03396099999.csv',\n",
       " '03497099999.csv',\n",
       " '03601099999.csv']"
      ]
     },
     "execution_count": 12,
     "metadata": {},
     "output_type": "execute_result"
    }
   ],
   "source": [
    "fileList = findFileNames(basicUrl, year)\n",
    "fileList[:10]"
   ]
  },
  {
   "cell_type": "markdown",
   "id": "813f89dd-6733-4ffb-97f0-17742fbbd1d2",
   "metadata": {},
   "source": [
    "#### Function 3: Once we get the list of file names from the previous function, we can create a list of urls so that we can download the data from each single url. \n",
    "example of csv's url = 'https://www.ncei.noaa.gov/data/global-summary-of-the-day/access/1929/03091099999.csv'"
   ]
  },
  {
   "cell_type": "code",
   "execution_count": 14,
   "id": "fd06bb55-e624-42c1-88e8-36861d37471b",
   "metadata": {
    "tags": []
   },
   "outputs": [],
   "source": [
    "def createUrls(fileList, year):\n",
    "    urls = []\n",
    "    for element in fileList:\n",
    "        url = \"https://www.ncei.noaa.gov/data/global-summary-of-the-day/access/\" + year + \"/\" + element\n",
    "        urls.append(url)\n",
    "    return urls"
   ]
  },
  {
   "cell_type": "code",
   "execution_count": 15,
   "id": "ce275441-ef5b-47b7-927a-7778f99ae01a",
   "metadata": {
    "tags": []
   },
   "outputs": [
    {
     "data": {
      "text/plain": [
       "['https://www.ncei.noaa.gov/data/global-summary-of-the-day/access/1929/03005099999.csv',\n",
       " 'https://www.ncei.noaa.gov/data/global-summary-of-the-day/access/1929/03075099999.csv',\n",
       " 'https://www.ncei.noaa.gov/data/global-summary-of-the-day/access/1929/03091099999.csv',\n",
       " 'https://www.ncei.noaa.gov/data/global-summary-of-the-day/access/1929/03159099999.csv',\n",
       " 'https://www.ncei.noaa.gov/data/global-summary-of-the-day/access/1929/03262099999.csv',\n",
       " 'https://www.ncei.noaa.gov/data/global-summary-of-the-day/access/1929/03311099999.csv',\n",
       " 'https://www.ncei.noaa.gov/data/global-summary-of-the-day/access/1929/03379099999.csv',\n",
       " 'https://www.ncei.noaa.gov/data/global-summary-of-the-day/access/1929/03396099999.csv',\n",
       " 'https://www.ncei.noaa.gov/data/global-summary-of-the-day/access/1929/03497099999.csv',\n",
       " 'https://www.ncei.noaa.gov/data/global-summary-of-the-day/access/1929/03601099999.csv']"
      ]
     },
     "execution_count": 15,
     "metadata": {},
     "output_type": "execute_result"
    }
   ],
   "source": [
    "urls = createUrls(fileList, year)\n",
    "urls[:10]"
   ]
  },
  {
   "cell_type": "markdown",
   "id": "838cc0ca-abf3-4765-bc20-56dc4688370e",
   "metadata": {
    "tags": []
   },
   "source": [
    "#### Function 4: create dataframes for each csv file. Here we need to use a empty csv to hold the data downloading from the url"
   ]
  },
  {
   "cell_type": "code",
   "execution_count": 21,
   "id": "bdc11cc6-d697-4c09-9b74-bee33716f914",
   "metadata": {
    "tags": []
   },
   "outputs": [],
   "source": [
    "def findDataFrame(url):\n",
    "    r = requests.get(url)\n",
    "    open('temp.csv', 'wb').write(r.content)\n",
    "    df = pd.read_csv('temp.csv')\n",
    "    return df"
   ]
  },
  {
   "cell_type": "code",
   "execution_count": 22,
   "id": "f8c1cd31-ef7c-4a8c-8e38-52e31b474ee2",
   "metadata": {
    "tags": []
   },
   "outputs": [],
   "source": [
    "example_url = 'https://www.ncei.noaa.gov/data/global-summary-of-the-day/access/1929/03005099999.csv'"
   ]
  },
  {
   "cell_type": "code",
   "execution_count": 23,
   "id": "59f93cf8-fa87-44f4-bbf5-14304dfd3bb7",
   "metadata": {
    "tags": []
   },
   "outputs": [
    {
     "data": {
      "text/html": [
       "<div>\n",
       "<style scoped>\n",
       "    .dataframe tbody tr th:only-of-type {\n",
       "        vertical-align: middle;\n",
       "    }\n",
       "\n",
       "    .dataframe tbody tr th {\n",
       "        vertical-align: top;\n",
       "    }\n",
       "\n",
       "    .dataframe thead th {\n",
       "        text-align: right;\n",
       "    }\n",
       "</style>\n",
       "<table border=\"1\" class=\"dataframe\">\n",
       "  <thead>\n",
       "    <tr style=\"text-align: right;\">\n",
       "      <th></th>\n",
       "      <th>STATION</th>\n",
       "      <th>DATE</th>\n",
       "      <th>LATITUDE</th>\n",
       "      <th>LONGITUDE</th>\n",
       "      <th>ELEVATION</th>\n",
       "      <th>NAME</th>\n",
       "      <th>TEMP</th>\n",
       "      <th>TEMP_ATTRIBUTES</th>\n",
       "      <th>DEWP</th>\n",
       "      <th>DEWP_ATTRIBUTES</th>\n",
       "      <th>...</th>\n",
       "      <th>MXSPD</th>\n",
       "      <th>GUST</th>\n",
       "      <th>MAX</th>\n",
       "      <th>MAX_ATTRIBUTES</th>\n",
       "      <th>MIN</th>\n",
       "      <th>MIN_ATTRIBUTES</th>\n",
       "      <th>PRCP</th>\n",
       "      <th>PRCP_ATTRIBUTES</th>\n",
       "      <th>SNDP</th>\n",
       "      <th>FRSHTT</th>\n",
       "    </tr>\n",
       "  </thead>\n",
       "  <tbody>\n",
       "    <tr>\n",
       "      <th>0</th>\n",
       "      <td>3005099999</td>\n",
       "      <td>1929-10-01</td>\n",
       "      <td>60.133333</td>\n",
       "      <td>-1.183333</td>\n",
       "      <td>84.0</td>\n",
       "      <td>LERWICK, UK</td>\n",
       "      <td>45.3</td>\n",
       "      <td>4</td>\n",
       "      <td>40.0</td>\n",
       "      <td>4</td>\n",
       "      <td>...</td>\n",
       "      <td>8.9</td>\n",
       "      <td>999.9</td>\n",
       "      <td>51.1</td>\n",
       "      <td></td>\n",
       "      <td>44.1</td>\n",
       "      <td>*</td>\n",
       "      <td>0.00</td>\n",
       "      <td>I</td>\n",
       "      <td>999.9</td>\n",
       "      <td>0</td>\n",
       "    </tr>\n",
       "    <tr>\n",
       "      <th>1</th>\n",
       "      <td>3005099999</td>\n",
       "      <td>1929-10-02</td>\n",
       "      <td>60.133333</td>\n",
       "      <td>-1.183333</td>\n",
       "      <td>84.0</td>\n",
       "      <td>LERWICK, UK</td>\n",
       "      <td>49.5</td>\n",
       "      <td>4</td>\n",
       "      <td>45.2</td>\n",
       "      <td>4</td>\n",
       "      <td>...</td>\n",
       "      <td>29.9</td>\n",
       "      <td>999.9</td>\n",
       "      <td>53.1</td>\n",
       "      <td>*</td>\n",
       "      <td>44.1</td>\n",
       "      <td></td>\n",
       "      <td>99.99</td>\n",
       "      <td></td>\n",
       "      <td>999.9</td>\n",
       "      <td>10000</td>\n",
       "    </tr>\n",
       "    <tr>\n",
       "      <th>2</th>\n",
       "      <td>3005099999</td>\n",
       "      <td>1929-10-03</td>\n",
       "      <td>60.133333</td>\n",
       "      <td>-1.183333</td>\n",
       "      <td>84.0</td>\n",
       "      <td>LERWICK, UK</td>\n",
       "      <td>49.0</td>\n",
       "      <td>4</td>\n",
       "      <td>41.7</td>\n",
       "      <td>4</td>\n",
       "      <td>...</td>\n",
       "      <td>23.9</td>\n",
       "      <td>999.9</td>\n",
       "      <td>53.1</td>\n",
       "      <td></td>\n",
       "      <td>46.0</td>\n",
       "      <td></td>\n",
       "      <td>99.99</td>\n",
       "      <td></td>\n",
       "      <td>999.9</td>\n",
       "      <td>10000</td>\n",
       "    </tr>\n",
       "    <tr>\n",
       "      <th>3</th>\n",
       "      <td>3005099999</td>\n",
       "      <td>1929-10-04</td>\n",
       "      <td>60.133333</td>\n",
       "      <td>-1.183333</td>\n",
       "      <td>84.0</td>\n",
       "      <td>LERWICK, UK</td>\n",
       "      <td>45.7</td>\n",
       "      <td>4</td>\n",
       "      <td>38.5</td>\n",
       "      <td>4</td>\n",
       "      <td>...</td>\n",
       "      <td>36.9</td>\n",
       "      <td>999.9</td>\n",
       "      <td>53.1</td>\n",
       "      <td></td>\n",
       "      <td>44.1</td>\n",
       "      <td></td>\n",
       "      <td>99.99</td>\n",
       "      <td></td>\n",
       "      <td>999.9</td>\n",
       "      <td>10000</td>\n",
       "    </tr>\n",
       "    <tr>\n",
       "      <th>4</th>\n",
       "      <td>3005099999</td>\n",
       "      <td>1929-10-05</td>\n",
       "      <td>60.133333</td>\n",
       "      <td>-1.183333</td>\n",
       "      <td>84.0</td>\n",
       "      <td>LERWICK, UK</td>\n",
       "      <td>46.5</td>\n",
       "      <td>4</td>\n",
       "      <td>41.5</td>\n",
       "      <td>4</td>\n",
       "      <td>...</td>\n",
       "      <td>13.0</td>\n",
       "      <td>999.9</td>\n",
       "      <td>48.0</td>\n",
       "      <td>*</td>\n",
       "      <td>43.0</td>\n",
       "      <td></td>\n",
       "      <td>99.99</td>\n",
       "      <td></td>\n",
       "      <td>999.9</td>\n",
       "      <td>10000</td>\n",
       "    </tr>\n",
       "  </tbody>\n",
       "</table>\n",
       "<p>5 rows × 28 columns</p>\n",
       "</div>"
      ],
      "text/plain": [
       "      STATION        DATE   LATITUDE  LONGITUDE  ELEVATION         NAME  TEMP  \\\n",
       "0  3005099999  1929-10-01  60.133333  -1.183333       84.0  LERWICK, UK  45.3   \n",
       "1  3005099999  1929-10-02  60.133333  -1.183333       84.0  LERWICK, UK  49.5   \n",
       "2  3005099999  1929-10-03  60.133333  -1.183333       84.0  LERWICK, UK  49.0   \n",
       "3  3005099999  1929-10-04  60.133333  -1.183333       84.0  LERWICK, UK  45.7   \n",
       "4  3005099999  1929-10-05  60.133333  -1.183333       84.0  LERWICK, UK  46.5   \n",
       "\n",
       "   TEMP_ATTRIBUTES  DEWP  DEWP_ATTRIBUTES  ...  MXSPD   GUST   MAX  \\\n",
       "0                4  40.0                4  ...    8.9  999.9  51.1   \n",
       "1                4  45.2                4  ...   29.9  999.9  53.1   \n",
       "2                4  41.7                4  ...   23.9  999.9  53.1   \n",
       "3                4  38.5                4  ...   36.9  999.9  53.1   \n",
       "4                4  41.5                4  ...   13.0  999.9  48.0   \n",
       "\n",
       "   MAX_ATTRIBUTES   MIN  MIN_ATTRIBUTES   PRCP  PRCP_ATTRIBUTES   SNDP  FRSHTT  \n",
       "0                  44.1               *   0.00                I  999.9       0  \n",
       "1               *  44.1                  99.99                   999.9   10000  \n",
       "2                  46.0                  99.99                   999.9   10000  \n",
       "3                  44.1                  99.99                   999.9   10000  \n",
       "4               *  43.0                  99.99                   999.9   10000  \n",
       "\n",
       "[5 rows x 28 columns]"
      ]
     },
     "execution_count": 23,
     "metadata": {},
     "output_type": "execute_result"
    }
   ],
   "source": [
    "example_df = findDataFrame(example_url)\n",
    "example_df.head()"
   ]
  },
  {
   "cell_type": "markdown",
   "id": "ef2b52c9-da58-40c7-851e-9fabb13b7eb9",
   "metadata": {},
   "source": [
    "#### Get rid of NA values. We have to check the data description"
   ]
  },
  {
   "cell_type": "code",
   "execution_count": 24,
   "id": "6e856000-9af4-42cc-af43-76e4556ded51",
   "metadata": {
    "tags": []
   },
   "outputs": [],
   "source": [
    "def changeToNone(value):\n",
    "    if value == 999.9 or value == 9999.9:\n",
    "        return np.nan\n",
    "    else:\n",
    "        return value\n",
    "    \n",
    "### Since 99.9 may represent real record for other columns, we need to create a funtion specific for PRCP column\n",
    "def changeToNone2(value):\n",
    "    if value == 99.99:\n",
    "        return np.nan\n",
    "    else:\n",
    "        return value"
   ]
  },
  {
   "cell_type": "code",
   "execution_count": 25,
   "id": "31a4bd48-f422-4c84-b16c-d9d74387aae2",
   "metadata": {
    "tags": []
   },
   "outputs": [],
   "source": [
    "def changMissingData(df):\n",
    "    df['TEMP'] = df['TEMP'].apply(changeToNone)   # missing data = 9999.9\n",
    "    df['DEWP'] = df['DEWP'].apply(changeToNone)   # missing data = 9999.9\n",
    "    df['SLP'] = df['SLP'].apply(changeToNone)     # missing data = 9999.9\n",
    "    df['STP'] = df['STP'].apply(changeToNone)     # missing data = 9999.9\n",
    "    df['STP'] = df['STP'].apply(changeToNone)     # missing data = 999.9\n",
    "    df['VISIB'] = df['VISIB'].apply(changeToNone) # missing data = 999.9\n",
    "    df['WDSP'] = df['WDSP'].apply(changeToNone)   # missing data = 999.9\n",
    "    df['MXSPD'] = df['MXSPD'].apply(changeToNone) # missing data = 999.9\n",
    "    df['GUST'] = df['GUST'].apply(changeToNone)   # missing data = 999.9\n",
    "    df['MAX'] = df['MAX'].apply(changeToNone)     # missing data = 9999.9\n",
    "    df['MIN'] = df['MIN'].apply(changeToNone)     # missing data = 9999.9\n",
    "    df['PRCP'] = df['PRCP'].apply(changeToNone2)   # missing data = 99.99\n",
    "    df['SNDP'] = df['SNDP'].apply(changeToNone)   # missing data = 999.9\n",
    "    return df"
   ]
  },
  {
   "cell_type": "code",
   "execution_count": 26,
   "id": "76b2e74c-d069-4234-a309-23120e6ba8f6",
   "metadata": {
    "tags": []
   },
   "outputs": [],
   "source": [
    "# We may want to find the year and date information from the DATE column\n",
    "def addDateInfor(df):\n",
    "    df['DATE'] = pd.to_datetime(df['DATE']) # convert string to date time \n",
    "    df['YEAR'] = df['DATE'].dt.year # find the year information from the data time\n",
    "    return df"
   ]
  },
  {
   "cell_type": "code",
   "execution_count": 27,
   "id": "ead51e45-269e-422e-a5b1-14e7680b89e2",
   "metadata": {
    "tags": []
   },
   "outputs": [],
   "source": [
    "### We can create dataframe with getting rid of the NA values and adding date information directly with this function\n",
    "def findDataFrame(url):\n",
    "    r = requests.get(url)\n",
    "    open('temp.csv', 'wb').write(r.content)\n",
    "    df = pd.read_csv('temp.csv')\n",
    "    df = changMissingData(df)\n",
    "    df = addDateInfor(df)\n",
    "    return df"
   ]
  },
  {
   "cell_type": "code",
   "execution_count": 28,
   "id": "9559067b-cb38-4424-8bf8-d9e15ca32d7f",
   "metadata": {
    "tags": []
   },
   "outputs": [
    {
     "data": {
      "text/html": [
       "<div>\n",
       "<style scoped>\n",
       "    .dataframe tbody tr th:only-of-type {\n",
       "        vertical-align: middle;\n",
       "    }\n",
       "\n",
       "    .dataframe tbody tr th {\n",
       "        vertical-align: top;\n",
       "    }\n",
       "\n",
       "    .dataframe thead th {\n",
       "        text-align: right;\n",
       "    }\n",
       "</style>\n",
       "<table border=\"1\" class=\"dataframe\">\n",
       "  <thead>\n",
       "    <tr style=\"text-align: right;\">\n",
       "      <th></th>\n",
       "      <th>STATION</th>\n",
       "      <th>DATE</th>\n",
       "      <th>LATITUDE</th>\n",
       "      <th>LONGITUDE</th>\n",
       "      <th>ELEVATION</th>\n",
       "      <th>NAME</th>\n",
       "      <th>TEMP</th>\n",
       "      <th>TEMP_ATTRIBUTES</th>\n",
       "      <th>DEWP</th>\n",
       "      <th>DEWP_ATTRIBUTES</th>\n",
       "      <th>...</th>\n",
       "      <th>GUST</th>\n",
       "      <th>MAX</th>\n",
       "      <th>MAX_ATTRIBUTES</th>\n",
       "      <th>MIN</th>\n",
       "      <th>MIN_ATTRIBUTES</th>\n",
       "      <th>PRCP</th>\n",
       "      <th>PRCP_ATTRIBUTES</th>\n",
       "      <th>SNDP</th>\n",
       "      <th>FRSHTT</th>\n",
       "      <th>YEAR</th>\n",
       "    </tr>\n",
       "  </thead>\n",
       "  <tbody>\n",
       "    <tr>\n",
       "      <th>0</th>\n",
       "      <td>3005099999</td>\n",
       "      <td>1929-10-01</td>\n",
       "      <td>60.133333</td>\n",
       "      <td>-1.183333</td>\n",
       "      <td>84.0</td>\n",
       "      <td>LERWICK, UK</td>\n",
       "      <td>45.3</td>\n",
       "      <td>4</td>\n",
       "      <td>40.0</td>\n",
       "      <td>4</td>\n",
       "      <td>...</td>\n",
       "      <td>NaN</td>\n",
       "      <td>51.1</td>\n",
       "      <td></td>\n",
       "      <td>44.1</td>\n",
       "      <td>*</td>\n",
       "      <td>0.0</td>\n",
       "      <td>I</td>\n",
       "      <td>NaN</td>\n",
       "      <td>0</td>\n",
       "      <td>1929</td>\n",
       "    </tr>\n",
       "    <tr>\n",
       "      <th>1</th>\n",
       "      <td>3005099999</td>\n",
       "      <td>1929-10-02</td>\n",
       "      <td>60.133333</td>\n",
       "      <td>-1.183333</td>\n",
       "      <td>84.0</td>\n",
       "      <td>LERWICK, UK</td>\n",
       "      <td>49.5</td>\n",
       "      <td>4</td>\n",
       "      <td>45.2</td>\n",
       "      <td>4</td>\n",
       "      <td>...</td>\n",
       "      <td>NaN</td>\n",
       "      <td>53.1</td>\n",
       "      <td>*</td>\n",
       "      <td>44.1</td>\n",
       "      <td></td>\n",
       "      <td>NaN</td>\n",
       "      <td></td>\n",
       "      <td>NaN</td>\n",
       "      <td>10000</td>\n",
       "      <td>1929</td>\n",
       "    </tr>\n",
       "    <tr>\n",
       "      <th>2</th>\n",
       "      <td>3005099999</td>\n",
       "      <td>1929-10-03</td>\n",
       "      <td>60.133333</td>\n",
       "      <td>-1.183333</td>\n",
       "      <td>84.0</td>\n",
       "      <td>LERWICK, UK</td>\n",
       "      <td>49.0</td>\n",
       "      <td>4</td>\n",
       "      <td>41.7</td>\n",
       "      <td>4</td>\n",
       "      <td>...</td>\n",
       "      <td>NaN</td>\n",
       "      <td>53.1</td>\n",
       "      <td></td>\n",
       "      <td>46.0</td>\n",
       "      <td></td>\n",
       "      <td>NaN</td>\n",
       "      <td></td>\n",
       "      <td>NaN</td>\n",
       "      <td>10000</td>\n",
       "      <td>1929</td>\n",
       "    </tr>\n",
       "    <tr>\n",
       "      <th>3</th>\n",
       "      <td>3005099999</td>\n",
       "      <td>1929-10-04</td>\n",
       "      <td>60.133333</td>\n",
       "      <td>-1.183333</td>\n",
       "      <td>84.0</td>\n",
       "      <td>LERWICK, UK</td>\n",
       "      <td>45.7</td>\n",
       "      <td>4</td>\n",
       "      <td>38.5</td>\n",
       "      <td>4</td>\n",
       "      <td>...</td>\n",
       "      <td>NaN</td>\n",
       "      <td>53.1</td>\n",
       "      <td></td>\n",
       "      <td>44.1</td>\n",
       "      <td></td>\n",
       "      <td>NaN</td>\n",
       "      <td></td>\n",
       "      <td>NaN</td>\n",
       "      <td>10000</td>\n",
       "      <td>1929</td>\n",
       "    </tr>\n",
       "    <tr>\n",
       "      <th>4</th>\n",
       "      <td>3005099999</td>\n",
       "      <td>1929-10-05</td>\n",
       "      <td>60.133333</td>\n",
       "      <td>-1.183333</td>\n",
       "      <td>84.0</td>\n",
       "      <td>LERWICK, UK</td>\n",
       "      <td>46.5</td>\n",
       "      <td>4</td>\n",
       "      <td>41.5</td>\n",
       "      <td>4</td>\n",
       "      <td>...</td>\n",
       "      <td>NaN</td>\n",
       "      <td>48.0</td>\n",
       "      <td>*</td>\n",
       "      <td>43.0</td>\n",
       "      <td></td>\n",
       "      <td>NaN</td>\n",
       "      <td></td>\n",
       "      <td>NaN</td>\n",
       "      <td>10000</td>\n",
       "      <td>1929</td>\n",
       "    </tr>\n",
       "  </tbody>\n",
       "</table>\n",
       "<p>5 rows × 29 columns</p>\n",
       "</div>"
      ],
      "text/plain": [
       "      STATION       DATE   LATITUDE  LONGITUDE  ELEVATION         NAME  TEMP  \\\n",
       "0  3005099999 1929-10-01  60.133333  -1.183333       84.0  LERWICK, UK  45.3   \n",
       "1  3005099999 1929-10-02  60.133333  -1.183333       84.0  LERWICK, UK  49.5   \n",
       "2  3005099999 1929-10-03  60.133333  -1.183333       84.0  LERWICK, UK  49.0   \n",
       "3  3005099999 1929-10-04  60.133333  -1.183333       84.0  LERWICK, UK  45.7   \n",
       "4  3005099999 1929-10-05  60.133333  -1.183333       84.0  LERWICK, UK  46.5   \n",
       "\n",
       "   TEMP_ATTRIBUTES  DEWP  DEWP_ATTRIBUTES  ...  GUST   MAX  MAX_ATTRIBUTES  \\\n",
       "0                4  40.0                4  ...   NaN  51.1                   \n",
       "1                4  45.2                4  ...   NaN  53.1               *   \n",
       "2                4  41.7                4  ...   NaN  53.1                   \n",
       "3                4  38.5                4  ...   NaN  53.1                   \n",
       "4                4  41.5                4  ...   NaN  48.0               *   \n",
       "\n",
       "    MIN  MIN_ATTRIBUTES  PRCP  PRCP_ATTRIBUTES  SNDP  FRSHTT  YEAR  \n",
       "0  44.1               *   0.0                I   NaN       0  1929  \n",
       "1  44.1                   NaN                    NaN   10000  1929  \n",
       "2  46.0                   NaN                    NaN   10000  1929  \n",
       "3  44.1                   NaN                    NaN   10000  1929  \n",
       "4  43.0                   NaN                    NaN   10000  1929  \n",
       "\n",
       "[5 rows x 29 columns]"
      ]
     },
     "execution_count": 28,
     "metadata": {},
     "output_type": "execute_result"
    }
   ],
   "source": [
    "example_df = findDataFrame(example_url)\n",
    "example_df.head()"
   ]
  },
  {
   "cell_type": "markdown",
   "id": "d0d1fb71-aa72-43a0-ba55-00161d52b5b1",
   "metadata": {},
   "source": [
    "#### Function 5: Conbine each single weather station data record in each year to create a dataframe which contains all the records from each weather station"
   ]
  },
  {
   "cell_type": "code",
   "execution_count": 30,
   "id": "2b5e71ee-b099-4fd5-8635-0a1a3ff40bc5",
   "metadata": {
    "tags": []
   },
   "outputs": [
    {
     "data": {
      "text/plain": [
       "['https://www.ncei.noaa.gov/data/global-summary-of-the-day/access/1929/03005099999.csv',\n",
       " 'https://www.ncei.noaa.gov/data/global-summary-of-the-day/access/1929/03075099999.csv',\n",
       " 'https://www.ncei.noaa.gov/data/global-summary-of-the-day/access/1929/03091099999.csv',\n",
       " 'https://www.ncei.noaa.gov/data/global-summary-of-the-day/access/1929/03159099999.csv',\n",
       " 'https://www.ncei.noaa.gov/data/global-summary-of-the-day/access/1929/03262099999.csv',\n",
       " 'https://www.ncei.noaa.gov/data/global-summary-of-the-day/access/1929/03311099999.csv',\n",
       " 'https://www.ncei.noaa.gov/data/global-summary-of-the-day/access/1929/03379099999.csv',\n",
       " 'https://www.ncei.noaa.gov/data/global-summary-of-the-day/access/1929/03396099999.csv',\n",
       " 'https://www.ncei.noaa.gov/data/global-summary-of-the-day/access/1929/03497099999.csv',\n",
       " 'https://www.ncei.noaa.gov/data/global-summary-of-the-day/access/1929/03601099999.csv']"
      ]
     },
     "execution_count": 30,
     "metadata": {},
     "output_type": "execute_result"
    }
   ],
   "source": [
    "urls[:10]"
   ]
  },
  {
   "cell_type": "code",
   "execution_count": 34,
   "id": "0dd0d4d4-2df2-464b-9662-56ffc04b5484",
   "metadata": {
    "tags": []
   },
   "outputs": [],
   "source": [
    "def combineYearData(urls):\n",
    "    df1 = pd.DataFrame()                            # Empty dataframe\n",
    "    for url in urls:                                # Loop each url in the url list in each year\n",
    "        try:\n",
    "            df2 = findDataFrame(url)\n",
    "            df = pd.concat([df1, df2], axis = 0)   # adding them together\n",
    "            df1 = df\n",
    "        except:\n",
    "            print('result has not been initialized')\n",
    "    return df1"
   ]
  },
  {
   "cell_type": "code",
   "execution_count": 35,
   "id": "1e360ebf-5cd4-4aa2-a0f7-5325a1fbd35d",
   "metadata": {
    "tags": []
   },
   "outputs": [],
   "source": [
    "df = combineYearData(urls)"
   ]
  },
  {
   "cell_type": "code",
   "execution_count": 37,
   "id": "89a5e1fc-2d9f-4cae-b701-150d0c3f8ce5",
   "metadata": {
    "tags": []
   },
   "outputs": [
    {
     "data": {
      "text/html": [
       "<div>\n",
       "<style scoped>\n",
       "    .dataframe tbody tr th:only-of-type {\n",
       "        vertical-align: middle;\n",
       "    }\n",
       "\n",
       "    .dataframe tbody tr th {\n",
       "        vertical-align: top;\n",
       "    }\n",
       "\n",
       "    .dataframe thead th {\n",
       "        text-align: right;\n",
       "    }\n",
       "</style>\n",
       "<table border=\"1\" class=\"dataframe\">\n",
       "  <thead>\n",
       "    <tr style=\"text-align: right;\">\n",
       "      <th></th>\n",
       "      <th>STATION</th>\n",
       "      <th>DATE</th>\n",
       "      <th>LATITUDE</th>\n",
       "      <th>LONGITUDE</th>\n",
       "      <th>ELEVATION</th>\n",
       "      <th>NAME</th>\n",
       "      <th>TEMP</th>\n",
       "      <th>TEMP_ATTRIBUTES</th>\n",
       "      <th>DEWP</th>\n",
       "      <th>DEWP_ATTRIBUTES</th>\n",
       "      <th>...</th>\n",
       "      <th>GUST</th>\n",
       "      <th>MAX</th>\n",
       "      <th>MAX_ATTRIBUTES</th>\n",
       "      <th>MIN</th>\n",
       "      <th>MIN_ATTRIBUTES</th>\n",
       "      <th>PRCP</th>\n",
       "      <th>PRCP_ATTRIBUTES</th>\n",
       "      <th>SNDP</th>\n",
       "      <th>FRSHTT</th>\n",
       "      <th>YEAR</th>\n",
       "    </tr>\n",
       "  </thead>\n",
       "  <tbody>\n",
       "    <tr>\n",
       "      <th>0</th>\n",
       "      <td>3005099999</td>\n",
       "      <td>1929-10-01</td>\n",
       "      <td>60.133333</td>\n",
       "      <td>-1.183333</td>\n",
       "      <td>84.0</td>\n",
       "      <td>LERWICK, UK</td>\n",
       "      <td>45.3</td>\n",
       "      <td>4</td>\n",
       "      <td>40.0</td>\n",
       "      <td>4</td>\n",
       "      <td>...</td>\n",
       "      <td>NaN</td>\n",
       "      <td>51.1</td>\n",
       "      <td></td>\n",
       "      <td>44.1</td>\n",
       "      <td>*</td>\n",
       "      <td>0.0</td>\n",
       "      <td>I</td>\n",
       "      <td>NaN</td>\n",
       "      <td>0</td>\n",
       "      <td>1929</td>\n",
       "    </tr>\n",
       "    <tr>\n",
       "      <th>1</th>\n",
       "      <td>3005099999</td>\n",
       "      <td>1929-10-02</td>\n",
       "      <td>60.133333</td>\n",
       "      <td>-1.183333</td>\n",
       "      <td>84.0</td>\n",
       "      <td>LERWICK, UK</td>\n",
       "      <td>49.5</td>\n",
       "      <td>4</td>\n",
       "      <td>45.2</td>\n",
       "      <td>4</td>\n",
       "      <td>...</td>\n",
       "      <td>NaN</td>\n",
       "      <td>53.1</td>\n",
       "      <td>*</td>\n",
       "      <td>44.1</td>\n",
       "      <td></td>\n",
       "      <td>NaN</td>\n",
       "      <td></td>\n",
       "      <td>NaN</td>\n",
       "      <td>10000</td>\n",
       "      <td>1929</td>\n",
       "    </tr>\n",
       "    <tr>\n",
       "      <th>2</th>\n",
       "      <td>3005099999</td>\n",
       "      <td>1929-10-03</td>\n",
       "      <td>60.133333</td>\n",
       "      <td>-1.183333</td>\n",
       "      <td>84.0</td>\n",
       "      <td>LERWICK, UK</td>\n",
       "      <td>49.0</td>\n",
       "      <td>4</td>\n",
       "      <td>41.7</td>\n",
       "      <td>4</td>\n",
       "      <td>...</td>\n",
       "      <td>NaN</td>\n",
       "      <td>53.1</td>\n",
       "      <td></td>\n",
       "      <td>46.0</td>\n",
       "      <td></td>\n",
       "      <td>NaN</td>\n",
       "      <td></td>\n",
       "      <td>NaN</td>\n",
       "      <td>10000</td>\n",
       "      <td>1929</td>\n",
       "    </tr>\n",
       "    <tr>\n",
       "      <th>3</th>\n",
       "      <td>3005099999</td>\n",
       "      <td>1929-10-04</td>\n",
       "      <td>60.133333</td>\n",
       "      <td>-1.183333</td>\n",
       "      <td>84.0</td>\n",
       "      <td>LERWICK, UK</td>\n",
       "      <td>45.7</td>\n",
       "      <td>4</td>\n",
       "      <td>38.5</td>\n",
       "      <td>4</td>\n",
       "      <td>...</td>\n",
       "      <td>NaN</td>\n",
       "      <td>53.1</td>\n",
       "      <td></td>\n",
       "      <td>44.1</td>\n",
       "      <td></td>\n",
       "      <td>NaN</td>\n",
       "      <td></td>\n",
       "      <td>NaN</td>\n",
       "      <td>10000</td>\n",
       "      <td>1929</td>\n",
       "    </tr>\n",
       "    <tr>\n",
       "      <th>4</th>\n",
       "      <td>3005099999</td>\n",
       "      <td>1929-10-05</td>\n",
       "      <td>60.133333</td>\n",
       "      <td>-1.183333</td>\n",
       "      <td>84.0</td>\n",
       "      <td>LERWICK, UK</td>\n",
       "      <td>46.5</td>\n",
       "      <td>4</td>\n",
       "      <td>41.5</td>\n",
       "      <td>4</td>\n",
       "      <td>...</td>\n",
       "      <td>NaN</td>\n",
       "      <td>48.0</td>\n",
       "      <td>*</td>\n",
       "      <td>43.0</td>\n",
       "      <td></td>\n",
       "      <td>NaN</td>\n",
       "      <td></td>\n",
       "      <td>NaN</td>\n",
       "      <td>10000</td>\n",
       "      <td>1929</td>\n",
       "    </tr>\n",
       "    <tr>\n",
       "      <th>...</th>\n",
       "      <td>...</td>\n",
       "      <td>...</td>\n",
       "      <td>...</td>\n",
       "      <td>...</td>\n",
       "      <td>...</td>\n",
       "      <td>...</td>\n",
       "      <td>...</td>\n",
       "      <td>...</td>\n",
       "      <td>...</td>\n",
       "      <td>...</td>\n",
       "      <td>...</td>\n",
       "      <td>...</td>\n",
       "      <td>...</td>\n",
       "      <td>...</td>\n",
       "      <td>...</td>\n",
       "      <td>...</td>\n",
       "      <td>...</td>\n",
       "      <td>...</td>\n",
       "      <td>...</td>\n",
       "      <td>...</td>\n",
       "      <td>...</td>\n",
       "    </tr>\n",
       "    <tr>\n",
       "      <th>39</th>\n",
       "      <td>99006199999</td>\n",
       "      <td>1929-12-26</td>\n",
       "      <td>0.100000</td>\n",
       "      <td>147.000000</td>\n",
       "      <td>3.0</td>\n",
       "      <td>BUOY 52079 ARGOS 3781</td>\n",
       "      <td>65.7</td>\n",
       "      <td>24</td>\n",
       "      <td>44.9</td>\n",
       "      <td>24</td>\n",
       "      <td>...</td>\n",
       "      <td>NaN</td>\n",
       "      <td>70.3</td>\n",
       "      <td>*</td>\n",
       "      <td>63.3</td>\n",
       "      <td>*</td>\n",
       "      <td>0.0</td>\n",
       "      <td>I</td>\n",
       "      <td>NaN</td>\n",
       "      <td>0</td>\n",
       "      <td>1929</td>\n",
       "    </tr>\n",
       "    <tr>\n",
       "      <th>40</th>\n",
       "      <td>99006199999</td>\n",
       "      <td>1929-12-27</td>\n",
       "      <td>0.100000</td>\n",
       "      <td>147.000000</td>\n",
       "      <td>3.0</td>\n",
       "      <td>BUOY 52079 ARGOS 3781</td>\n",
       "      <td>69.1</td>\n",
       "      <td>24</td>\n",
       "      <td>57.2</td>\n",
       "      <td>24</td>\n",
       "      <td>...</td>\n",
       "      <td>NaN</td>\n",
       "      <td>73.4</td>\n",
       "      <td>*</td>\n",
       "      <td>65.3</td>\n",
       "      <td>*</td>\n",
       "      <td>0.0</td>\n",
       "      <td>I</td>\n",
       "      <td>NaN</td>\n",
       "      <td>0</td>\n",
       "      <td>1929</td>\n",
       "    </tr>\n",
       "    <tr>\n",
       "      <th>41</th>\n",
       "      <td>99006199999</td>\n",
       "      <td>1929-12-29</td>\n",
       "      <td>0.100000</td>\n",
       "      <td>147.000000</td>\n",
       "      <td>3.0</td>\n",
       "      <td>BUOY 52079 ARGOS 3781</td>\n",
       "      <td>65.1</td>\n",
       "      <td>24</td>\n",
       "      <td>60.5</td>\n",
       "      <td>24</td>\n",
       "      <td>...</td>\n",
       "      <td>NaN</td>\n",
       "      <td>69.3</td>\n",
       "      <td>*</td>\n",
       "      <td>62.4</td>\n",
       "      <td>*</td>\n",
       "      <td>0.0</td>\n",
       "      <td>I</td>\n",
       "      <td>NaN</td>\n",
       "      <td>0</td>\n",
       "      <td>1929</td>\n",
       "    </tr>\n",
       "    <tr>\n",
       "      <th>42</th>\n",
       "      <td>99006199999</td>\n",
       "      <td>1929-12-30</td>\n",
       "      <td>0.100000</td>\n",
       "      <td>147.000000</td>\n",
       "      <td>3.0</td>\n",
       "      <td>BUOY 52079 ARGOS 3781</td>\n",
       "      <td>62.3</td>\n",
       "      <td>24</td>\n",
       "      <td>58.1</td>\n",
       "      <td>24</td>\n",
       "      <td>...</td>\n",
       "      <td>NaN</td>\n",
       "      <td>64.4</td>\n",
       "      <td>*</td>\n",
       "      <td>60.3</td>\n",
       "      <td>*</td>\n",
       "      <td>0.0</td>\n",
       "      <td>I</td>\n",
       "      <td>NaN</td>\n",
       "      <td>0</td>\n",
       "      <td>1929</td>\n",
       "    </tr>\n",
       "    <tr>\n",
       "      <th>43</th>\n",
       "      <td>99006199999</td>\n",
       "      <td>1929-12-31</td>\n",
       "      <td>0.100000</td>\n",
       "      <td>147.000000</td>\n",
       "      <td>3.0</td>\n",
       "      <td>BUOY 52079 ARGOS 3781</td>\n",
       "      <td>59.9</td>\n",
       "      <td>24</td>\n",
       "      <td>55.4</td>\n",
       "      <td>24</td>\n",
       "      <td>...</td>\n",
       "      <td>NaN</td>\n",
       "      <td>63.3</td>\n",
       "      <td>*</td>\n",
       "      <td>58.3</td>\n",
       "      <td>*</td>\n",
       "      <td>0.0</td>\n",
       "      <td>I</td>\n",
       "      <td>NaN</td>\n",
       "      <td>0</td>\n",
       "      <td>1929</td>\n",
       "    </tr>\n",
       "  </tbody>\n",
       "</table>\n",
       "<p>2081 rows × 29 columns</p>\n",
       "</div>"
      ],
      "text/plain": [
       "        STATION       DATE   LATITUDE   LONGITUDE  ELEVATION  \\\n",
       "0    3005099999 1929-10-01  60.133333   -1.183333       84.0   \n",
       "1    3005099999 1929-10-02  60.133333   -1.183333       84.0   \n",
       "2    3005099999 1929-10-03  60.133333   -1.183333       84.0   \n",
       "3    3005099999 1929-10-04  60.133333   -1.183333       84.0   \n",
       "4    3005099999 1929-10-05  60.133333   -1.183333       84.0   \n",
       "..          ...        ...        ...         ...        ...   \n",
       "39  99006199999 1929-12-26   0.100000  147.000000        3.0   \n",
       "40  99006199999 1929-12-27   0.100000  147.000000        3.0   \n",
       "41  99006199999 1929-12-29   0.100000  147.000000        3.0   \n",
       "42  99006199999 1929-12-30   0.100000  147.000000        3.0   \n",
       "43  99006199999 1929-12-31   0.100000  147.000000        3.0   \n",
       "\n",
       "                     NAME  TEMP  TEMP_ATTRIBUTES  DEWP  DEWP_ATTRIBUTES  ...  \\\n",
       "0             LERWICK, UK  45.3                4  40.0                4  ...   \n",
       "1             LERWICK, UK  49.5                4  45.2                4  ...   \n",
       "2             LERWICK, UK  49.0                4  41.7                4  ...   \n",
       "3             LERWICK, UK  45.7                4  38.5                4  ...   \n",
       "4             LERWICK, UK  46.5                4  41.5                4  ...   \n",
       "..                    ...   ...              ...   ...              ...  ...   \n",
       "39  BUOY 52079 ARGOS 3781  65.7               24  44.9               24  ...   \n",
       "40  BUOY 52079 ARGOS 3781  69.1               24  57.2               24  ...   \n",
       "41  BUOY 52079 ARGOS 3781  65.1               24  60.5               24  ...   \n",
       "42  BUOY 52079 ARGOS 3781  62.3               24  58.1               24  ...   \n",
       "43  BUOY 52079 ARGOS 3781  59.9               24  55.4               24  ...   \n",
       "\n",
       "    GUST   MAX  MAX_ATTRIBUTES   MIN  MIN_ATTRIBUTES  PRCP  PRCP_ATTRIBUTES  \\\n",
       "0    NaN  51.1                  44.1               *   0.0                I   \n",
       "1    NaN  53.1               *  44.1                   NaN                    \n",
       "2    NaN  53.1                  46.0                   NaN                    \n",
       "3    NaN  53.1                  44.1                   NaN                    \n",
       "4    NaN  48.0               *  43.0                   NaN                    \n",
       "..   ...   ...             ...   ...             ...   ...              ...   \n",
       "39   NaN  70.3               *  63.3               *   0.0                I   \n",
       "40   NaN  73.4               *  65.3               *   0.0                I   \n",
       "41   NaN  69.3               *  62.4               *   0.0                I   \n",
       "42   NaN  64.4               *  60.3               *   0.0                I   \n",
       "43   NaN  63.3               *  58.3               *   0.0                I   \n",
       "\n",
       "    SNDP  FRSHTT  YEAR  \n",
       "0    NaN       0  1929  \n",
       "1    NaN   10000  1929  \n",
       "2    NaN   10000  1929  \n",
       "3    NaN   10000  1929  \n",
       "4    NaN   10000  1929  \n",
       "..   ...     ...   ...  \n",
       "39   NaN       0  1929  \n",
       "40   NaN       0  1929  \n",
       "41   NaN       0  1929  \n",
       "42   NaN       0  1929  \n",
       "43   NaN       0  1929  \n",
       "\n",
       "[2081 rows x 29 columns]"
      ]
     },
     "execution_count": 37,
     "metadata": {},
     "output_type": "execute_result"
    }
   ],
   "source": [
    "df"
   ]
  },
  {
   "cell_type": "code",
   "execution_count": 40,
   "id": "c040cef2-00d5-4384-be3f-18a7c679ee4b",
   "metadata": {
    "tags": []
   },
   "outputs": [
    {
     "data": {
      "text/plain": [
       "array([ 3005099999,  3075099999,  3091099999,  3159099999,  3262099999,\n",
       "        3311099999,  3379099999,  3396099999,  3497099999,  3601099999,\n",
       "        3777099999,  3795099999,  3804099999,  3811099999,  3856099999,\n",
       "        3864099999,  3894099999,  3953099999,  3973099999,  3980099999,\n",
       "       99006199999])"
      ]
     },
     "execution_count": 40,
     "metadata": {},
     "output_type": "execute_result"
    }
   ],
   "source": [
    "df['STATION'].unique()   # the result is the same as the list on the 1929 file list page"
   ]
  },
  {
   "cell_type": "markdown",
   "id": "31178b3f-2d68-4c5e-9d37-5c2d815f3811",
   "metadata": {},
   "source": [
    "#### Save the dataframe to csv file"
   ]
  },
  {
   "cell_type": "code",
   "execution_count": 42,
   "id": "a8b2d65c-5a22-4bcb-8e73-ef58d8d61460",
   "metadata": {
    "tags": []
   },
   "outputs": [],
   "source": [
    "df.to_csv('Daily_Climate/DailyTemp_full_' + year + '.csv')"
   ]
  },
  {
   "cell_type": "code",
   "execution_count": null,
   "id": "3bef26cd-6ff0-4e8e-b469-f5aa07f44ec6",
   "metadata": {},
   "outputs": [],
   "source": []
  }
 ],
 "metadata": {
  "kernelspec": {
   "display_name": "MyEnv",
   "language": "python",
   "name": "myenv"
  },
  "language_info": {
   "codemirror_mode": {
    "name": "ipython",
    "version": 3
   },
   "file_extension": ".py",
   "mimetype": "text/x-python",
   "name": "python",
   "nbconvert_exporter": "python",
   "pygments_lexer": "ipython3",
   "version": "3.7.11"
  }
 },
 "nbformat": 4,
 "nbformat_minor": 5
}
